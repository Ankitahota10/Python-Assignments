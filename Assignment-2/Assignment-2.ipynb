{
 "cells": [
  {
   "cell_type": "code",
   "execution_count": 28,
   "metadata": {},
   "outputs": [
    {
     "name": "stdout",
     "output_type": "stream",
     "text": [
      "\t\n",
      "*\t\n",
      "**\t\n",
      "***\t\n",
      "****\t\n",
      "*****\t\n",
      "****\t\n",
      "***\t\n",
      "**\t\n",
      "*\t\n"
     ]
    }
   ],
   "source": [
    "#Q1.\n",
    "for i in range(6):\n",
    "    for j in range(i):\n",
    "        print('*', end='')\n",
    "    print('\\t')\n",
    "for i in range(4,0,-1):\n",
    "    for j in range(i):\n",
    "        print('*',end ='')\n",
    "    print('\\t')"
   ]
  },
  {
   "cell_type": "code",
   "execution_count": 29,
   "metadata": {},
   "outputs": [
    {
     "name": "stdout",
     "output_type": "stream",
     "text": [
      "Enter a word:ineuron\n",
      "norueni\n"
     ]
    }
   ],
   "source": [
    "#Q2.Write a Python program to reverse a word after accepting the input from the user.\n",
    "word = input(\"Enter a word:\")\n",
    "rev_word = word[::-1]\n",
    "print(rev_word)"
   ]
  }
 ],
 "metadata": {
  "kernelspec": {
   "display_name": "Python 3",
   "language": "python",
   "name": "python3"
  },
  "language_info": {
   "codemirror_mode": {
    "name": "ipython",
    "version": 3
   },
   "file_extension": ".py",
   "mimetype": "text/x-python",
   "name": "python",
   "nbconvert_exporter": "python",
   "pygments_lexer": "ipython3",
   "version": "3.7.6"
  }
 },
 "nbformat": 4,
 "nbformat_minor": 4
}
